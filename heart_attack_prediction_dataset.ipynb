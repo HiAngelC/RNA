{
  "nbformat": 4,
  "nbformat_minor": 0,
  "metadata": {
    "colab": {
      "provenance": [],
      "gpuType": "V28"
    },
    "kernelspec": {
      "name": "python3",
      "display_name": "Python 3"
    },
    "language_info": {
      "name": "python"
    },
    "accelerator": "TPU"
  },
  "cells": [
    {
      "cell_type": "code",
      "execution_count": 1,
      "metadata": {
        "id": "ZGmrJ2vE6bzO",
        "colab": {
          "base_uri": "https://localhost:8080/",
          "height": 1000
        },
        "outputId": "0a6c0c8c-5589-4fd4-b090-46719aa19958"
      },
      "outputs": [
        {
          "output_type": "stream",
          "name": "stdout",
          "text": [
            "Collecting opendatasets\n",
            "  Downloading opendatasets-0.1.22-py3-none-any.whl.metadata (9.2 kB)\n",
            "Requirement already satisfied: tqdm in /usr/local/lib/python3.11/dist-packages (from opendatasets) (4.67.1)\n",
            "Requirement already satisfied: kaggle in /usr/local/lib/python3.11/dist-packages (from opendatasets) (1.7.4.5)\n",
            "Requirement already satisfied: click in /usr/local/lib/python3.11/dist-packages (from opendatasets) (8.2.1)\n",
            "Requirement already satisfied: bleach in /usr/local/lib/python3.11/dist-packages (from kaggle->opendatasets) (6.2.0)\n",
            "Requirement already satisfied: certifi>=14.05.14 in /usr/local/lib/python3.11/dist-packages (from kaggle->opendatasets) (2025.7.14)\n",
            "Requirement already satisfied: charset-normalizer in /usr/local/lib/python3.11/dist-packages (from kaggle->opendatasets) (3.4.2)\n",
            "Requirement already satisfied: idna in /usr/local/lib/python3.11/dist-packages (from kaggle->opendatasets) (3.10)\n",
            "Requirement already satisfied: protobuf in /usr/local/lib/python3.11/dist-packages (from kaggle->opendatasets) (6.31.1)\n",
            "Requirement already satisfied: python-dateutil>=2.5.3 in /usr/local/lib/python3.11/dist-packages (from kaggle->opendatasets) (2.9.0.post0)\n",
            "Requirement already satisfied: python-slugify in /usr/local/lib/python3.11/dist-packages (from kaggle->opendatasets) (8.0.4)\n",
            "Requirement already satisfied: requests in /usr/local/lib/python3.11/dist-packages (from kaggle->opendatasets) (2.32.3)\n",
            "Requirement already satisfied: setuptools>=21.0.0 in /usr/local/lib/python3.11/dist-packages (from kaggle->opendatasets) (75.2.0)\n",
            "Requirement already satisfied: six>=1.10 in /usr/local/lib/python3.11/dist-packages (from kaggle->opendatasets) (1.17.0)\n",
            "Requirement already satisfied: text-unidecode in /usr/local/lib/python3.11/dist-packages (from kaggle->opendatasets) (1.3)\n",
            "Requirement already satisfied: urllib3>=1.15.1 in /usr/local/lib/python3.11/dist-packages (from kaggle->opendatasets) (2.5.0)\n",
            "Requirement already satisfied: webencodings in /usr/local/lib/python3.11/dist-packages (from kaggle->opendatasets) (0.5.1)\n",
            "Downloading opendatasets-0.1.22-py3-none-any.whl (15 kB)\n",
            "Installing collected packages: opendatasets\n",
            "Successfully installed opendatasets-0.1.22\n",
            "Collecting scikeras[tensorflow]\n",
            "  Downloading scikeras-0.13.0-py3-none-any.whl.metadata (3.1 kB)\n",
            "Requirement already satisfied: keras>=3.2.0 in /usr/local/lib/python3.11/dist-packages (from scikeras[tensorflow]) (3.8.0)\n",
            "Requirement already satisfied: scikit-learn>=1.4.2 in /usr/local/lib/python3.11/dist-packages (from scikeras[tensorflow]) (1.6.1)\n",
            "Collecting tensorflow>=2.16.1 (from scikeras[tensorflow])\n",
            "  Downloading tensorflow-2.19.0-cp311-cp311-manylinux_2_17_x86_64.manylinux2014_x86_64.whl.metadata (4.1 kB)\n",
            "Requirement already satisfied: absl-py in /usr/local/lib/python3.11/dist-packages (from keras>=3.2.0->scikeras[tensorflow]) (1.4.0)\n",
            "Requirement already satisfied: numpy in /usr/local/lib/python3.11/dist-packages (from keras>=3.2.0->scikeras[tensorflow]) (2.0.2)\n",
            "Requirement already satisfied: rich in /usr/local/lib/python3.11/dist-packages (from keras>=3.2.0->scikeras[tensorflow]) (14.0.0)\n",
            "Requirement already satisfied: namex in /usr/local/lib/python3.11/dist-packages (from keras>=3.2.0->scikeras[tensorflow]) (0.1.0)\n",
            "Requirement already satisfied: h5py in /usr/local/lib/python3.11/dist-packages (from keras>=3.2.0->scikeras[tensorflow]) (3.14.0)\n",
            "Requirement already satisfied: optree in /usr/local/lib/python3.11/dist-packages (from keras>=3.2.0->scikeras[tensorflow]) (0.16.0)\n",
            "Requirement already satisfied: ml-dtypes in /usr/local/lib/python3.11/dist-packages (from keras>=3.2.0->scikeras[tensorflow]) (0.5.1)\n",
            "Requirement already satisfied: packaging in /usr/local/lib/python3.11/dist-packages (from keras>=3.2.0->scikeras[tensorflow]) (25.0)\n",
            "Requirement already satisfied: scipy>=1.6.0 in /usr/local/lib/python3.11/dist-packages (from scikit-learn>=1.4.2->scikeras[tensorflow]) (1.16.0)\n",
            "Requirement already satisfied: joblib>=1.2.0 in /usr/local/lib/python3.11/dist-packages (from scikit-learn>=1.4.2->scikeras[tensorflow]) (1.5.1)\n",
            "Requirement already satisfied: threadpoolctl>=3.1.0 in /usr/local/lib/python3.11/dist-packages (from scikit-learn>=1.4.2->scikeras[tensorflow]) (3.6.0)\n",
            "Collecting astunparse>=1.6.0 (from tensorflow>=2.16.1->scikeras[tensorflow])\n",
            "  Downloading astunparse-1.6.3-py2.py3-none-any.whl.metadata (4.4 kB)\n",
            "Collecting flatbuffers>=24.3.25 (from tensorflow>=2.16.1->scikeras[tensorflow])\n",
            "  Downloading flatbuffers-25.2.10-py2.py3-none-any.whl.metadata (875 bytes)\n",
            "Requirement already satisfied: gast!=0.5.0,!=0.5.1,!=0.5.2,>=0.2.1 in /usr/local/lib/python3.11/dist-packages (from tensorflow>=2.16.1->scikeras[tensorflow]) (0.6.0)\n",
            "Collecting google-pasta>=0.1.1 (from tensorflow>=2.16.1->scikeras[tensorflow])\n",
            "  Downloading google_pasta-0.2.0-py3-none-any.whl.metadata (814 bytes)\n",
            "Collecting libclang>=13.0.0 (from tensorflow>=2.16.1->scikeras[tensorflow])\n",
            "  Downloading libclang-18.1.1-py2.py3-none-manylinux2010_x86_64.whl.metadata (5.2 kB)\n",
            "Requirement already satisfied: opt-einsum>=2.3.2 in /usr/local/lib/python3.11/dist-packages (from tensorflow>=2.16.1->scikeras[tensorflow]) (3.4.0)\n",
            "Collecting protobuf!=4.21.0,!=4.21.1,!=4.21.2,!=4.21.3,!=4.21.4,!=4.21.5,<6.0.0dev,>=3.20.3 (from tensorflow>=2.16.1->scikeras[tensorflow])\n",
            "  Downloading protobuf-5.29.5-cp38-abi3-manylinux2014_x86_64.whl.metadata (592 bytes)\n",
            "Requirement already satisfied: requests<3,>=2.21.0 in /usr/local/lib/python3.11/dist-packages (from tensorflow>=2.16.1->scikeras[tensorflow]) (2.32.3)\n",
            "Requirement already satisfied: setuptools in /usr/local/lib/python3.11/dist-packages (from tensorflow>=2.16.1->scikeras[tensorflow]) (75.2.0)\n",
            "Requirement already satisfied: six>=1.12.0 in /usr/local/lib/python3.11/dist-packages (from tensorflow>=2.16.1->scikeras[tensorflow]) (1.17.0)\n",
            "Requirement already satisfied: termcolor>=1.1.0 in /usr/local/lib/python3.11/dist-packages (from tensorflow>=2.16.1->scikeras[tensorflow]) (3.1.0)\n",
            "Requirement already satisfied: typing-extensions>=3.6.6 in /usr/local/lib/python3.11/dist-packages (from tensorflow>=2.16.1->scikeras[tensorflow]) (4.14.1)\n",
            "Requirement already satisfied: wrapt>=1.11.0 in /usr/local/lib/python3.11/dist-packages (from tensorflow>=2.16.1->scikeras[tensorflow]) (1.17.2)\n",
            "Requirement already satisfied: grpcio<2.0,>=1.24.3 in /usr/local/lib/python3.11/dist-packages (from tensorflow>=2.16.1->scikeras[tensorflow]) (1.73.1)\n",
            "Collecting tensorboard~=2.19.0 (from tensorflow>=2.16.1->scikeras[tensorflow])\n",
            "  Downloading tensorboard-2.19.0-py3-none-any.whl.metadata (1.8 kB)\n",
            "Collecting tensorflow-io-gcs-filesystem>=0.23.1 (from tensorflow>=2.16.1->scikeras[tensorflow])\n",
            "  Downloading tensorflow_io_gcs_filesystem-0.37.1-cp311-cp311-manylinux_2_17_x86_64.manylinux2014_x86_64.whl.metadata (14 kB)\n",
            "Collecting wheel<1.0,>=0.23.0 (from astunparse>=1.6.0->tensorflow>=2.16.1->scikeras[tensorflow])\n",
            "  Downloading wheel-0.45.1-py3-none-any.whl.metadata (2.3 kB)\n",
            "Requirement already satisfied: charset-normalizer<4,>=2 in /usr/local/lib/python3.11/dist-packages (from requests<3,>=2.21.0->tensorflow>=2.16.1->scikeras[tensorflow]) (3.4.2)\n",
            "Requirement already satisfied: idna<4,>=2.5 in /usr/local/lib/python3.11/dist-packages (from requests<3,>=2.21.0->tensorflow>=2.16.1->scikeras[tensorflow]) (3.10)\n",
            "Requirement already satisfied: urllib3<3,>=1.21.1 in /usr/local/lib/python3.11/dist-packages (from requests<3,>=2.21.0->tensorflow>=2.16.1->scikeras[tensorflow]) (2.5.0)\n",
            "Requirement already satisfied: certifi>=2017.4.17 in /usr/local/lib/python3.11/dist-packages (from requests<3,>=2.21.0->tensorflow>=2.16.1->scikeras[tensorflow]) (2025.7.14)\n",
            "Requirement already satisfied: markdown>=2.6.8 in /usr/lib/python3/dist-packages (from tensorboard~=2.19.0->tensorflow>=2.16.1->scikeras[tensorflow]) (3.3.6)\n",
            "Collecting tensorboard-data-server<0.8.0,>=0.7.0 (from tensorboard~=2.19.0->tensorflow>=2.16.1->scikeras[tensorflow])\n",
            "  Downloading tensorboard_data_server-0.7.2-py3-none-manylinux_2_31_x86_64.whl.metadata (1.1 kB)\n",
            "Collecting werkzeug>=1.0.1 (from tensorboard~=2.19.0->tensorflow>=2.16.1->scikeras[tensorflow])\n",
            "  Downloading werkzeug-3.1.3-py3-none-any.whl.metadata (3.7 kB)\n",
            "Requirement already satisfied: markdown-it-py>=2.2.0 in /usr/local/lib/python3.11/dist-packages (from rich->keras>=3.2.0->scikeras[tensorflow]) (3.0.0)\n",
            "Requirement already satisfied: pygments<3.0.0,>=2.13.0 in /usr/local/lib/python3.11/dist-packages (from rich->keras>=3.2.0->scikeras[tensorflow]) (2.19.2)\n",
            "Requirement already satisfied: mdurl~=0.1 in /usr/local/lib/python3.11/dist-packages (from markdown-it-py>=2.2.0->rich->keras>=3.2.0->scikeras[tensorflow]) (0.1.2)\n",
            "Requirement already satisfied: MarkupSafe>=2.1.1 in /usr/local/lib/python3.11/dist-packages (from werkzeug>=1.0.1->tensorboard~=2.19.0->tensorflow>=2.16.1->scikeras[tensorflow]) (3.0.2)\n",
            "Downloading tensorflow-2.19.0-cp311-cp311-manylinux_2_17_x86_64.manylinux2014_x86_64.whl (644.9 MB)\n",
            "\u001b[2K   \u001b[90m━━━━━━━━━━━━━━━━━━━━━━━━━━━━━━━━━━━━━━━━\u001b[0m \u001b[32m644.9/644.9 MB\u001b[0m \u001b[31m1.7 MB/s\u001b[0m eta \u001b[36m0:00:00\u001b[0m\n",
            "\u001b[?25hDownloading scikeras-0.13.0-py3-none-any.whl (26 kB)\n",
            "Downloading astunparse-1.6.3-py2.py3-none-any.whl (12 kB)\n",
            "Downloading flatbuffers-25.2.10-py2.py3-none-any.whl (30 kB)\n",
            "Downloading google_pasta-0.2.0-py3-none-any.whl (57 kB)\n",
            "\u001b[2K   \u001b[90m━━━━━━━━━━━━━━━━━━━━━━━━━━━━━━━━━━━━━━━━\u001b[0m \u001b[32m57.5/57.5 kB\u001b[0m \u001b[31m5.0 MB/s\u001b[0m eta \u001b[36m0:00:00\u001b[0m\n",
            "\u001b[?25hDownloading libclang-18.1.1-py2.py3-none-manylinux2010_x86_64.whl (24.5 MB)\n",
            "\u001b[2K   \u001b[90m━━━━━━━━━━━━━━━━━━━━━━━━━━━━━━━━━━━━━━━━\u001b[0m \u001b[32m24.5/24.5 MB\u001b[0m \u001b[31m85.1 MB/s\u001b[0m eta \u001b[36m0:00:00\u001b[0m\n",
            "\u001b[?25hDownloading protobuf-5.29.5-cp38-abi3-manylinux2014_x86_64.whl (319 kB)\n",
            "\u001b[2K   \u001b[90m━━━━━━━━━━━━━━━━━━━━━━━━━━━━━━━━━━━━━━━━\u001b[0m \u001b[32m319.9/319.9 kB\u001b[0m \u001b[31m22.7 MB/s\u001b[0m eta \u001b[36m0:00:00\u001b[0m\n",
            "\u001b[?25hDownloading tensorboard-2.19.0-py3-none-any.whl (5.5 MB)\n",
            "\u001b[2K   \u001b[90m━━━━━━━━━━━━━━━━━━━━━━━━━━━━━━━━━━━━━━━━\u001b[0m \u001b[32m5.5/5.5 MB\u001b[0m \u001b[31m116.9 MB/s\u001b[0m eta \u001b[36m0:00:00\u001b[0m\n",
            "\u001b[?25hDownloading tensorflow_io_gcs_filesystem-0.37.1-cp311-cp311-manylinux_2_17_x86_64.manylinux2014_x86_64.whl (5.1 MB)\n",
            "\u001b[2K   \u001b[90m━━━━━━━━━━━━━━━━━━━━━━━━━━━━━━━━━━━━━━━━\u001b[0m \u001b[32m5.1/5.1 MB\u001b[0m \u001b[31m116.5 MB/s\u001b[0m eta \u001b[36m0:00:00\u001b[0m\n",
            "\u001b[?25hDownloading tensorboard_data_server-0.7.2-py3-none-manylinux_2_31_x86_64.whl (6.6 MB)\n",
            "\u001b[2K   \u001b[90m━━━━━━━━━━━━━━━━━━━━━━━━━━━━━━━━━━━━━━━━\u001b[0m \u001b[32m6.6/6.6 MB\u001b[0m \u001b[31m121.5 MB/s\u001b[0m eta \u001b[36m0:00:00\u001b[0m\n",
            "\u001b[?25hDownloading werkzeug-3.1.3-py3-none-any.whl (224 kB)\n",
            "\u001b[2K   \u001b[90m━━━━━━━━━━━━━━━━━━━━━━━━━━━━━━━━━━━━━━━━\u001b[0m \u001b[32m224.5/224.5 kB\u001b[0m \u001b[31m18.8 MB/s\u001b[0m eta \u001b[36m0:00:00\u001b[0m\n",
            "\u001b[?25hDownloading wheel-0.45.1-py3-none-any.whl (72 kB)\n",
            "\u001b[2K   \u001b[90m━━━━━━━━━━━━━━━━━━━━━━━━━━━━━━━━━━━━━━━━\u001b[0m \u001b[32m72.5/72.5 kB\u001b[0m \u001b[31m5.8 MB/s\u001b[0m eta \u001b[36m0:00:00\u001b[0m\n",
            "\u001b[?25hInstalling collected packages: libclang, flatbuffers, wheel, werkzeug, tensorflow-io-gcs-filesystem, tensorboard-data-server, protobuf, google-pasta, tensorboard, astunparse, tensorflow, scikeras\n",
            "  Attempting uninstall: protobuf\n",
            "    Found existing installation: protobuf 6.31.1\n",
            "    Uninstalling protobuf-6.31.1:\n",
            "      Successfully uninstalled protobuf-6.31.1\n",
            "Successfully installed astunparse-1.6.3 flatbuffers-25.2.10 google-pasta-0.2.0 libclang-18.1.1 protobuf-5.29.5 scikeras-0.13.0 tensorboard-2.19.0 tensorboard-data-server-0.7.2 tensorflow-2.19.0 tensorflow-io-gcs-filesystem-0.37.1 werkzeug-3.1.3 wheel-0.45.1\n"
          ]
        },
        {
          "output_type": "display_data",
          "data": {
            "application/vnd.colab-display-data+json": {
              "pip_warning": {
                "packages": [
                  "google"
                ]
              },
              "id": "c89d092924f9458eaf57010d97956678"
            }
          },
          "metadata": {}
        }
      ],
      "source": [
        "!pip install opendatasets\n",
        "import opendatasets as od\n",
        "!pip install scikeras[tensorflow]"
      ]
    },
    {
      "cell_type": "code",
      "source": [
        "dataset_link=\"https://www.kaggle.com/datasets/iamsouravbanerjee/heart-attack-prediction-dataset\"\n",
        "od.download(dataset_link)\n"
      ],
      "metadata": {
        "colab": {
          "base_uri": "https://localhost:8080/"
        },
        "id": "ITM5RyTY6ct_",
        "outputId": "e2df0e56-180a-4aba-8a28-014a0736129d"
      },
      "execution_count": 2,
      "outputs": [
        {
          "output_type": "stream",
          "name": "stdout",
          "text": [
            "Please provide your Kaggle credentials to download this dataset. Learn more: http://bit.ly/kaggle-creds\n",
            "Your Kaggle username: angelcruz12\n",
            "Your Kaggle Key: ··········\n",
            "Dataset URL: https://www.kaggle.com/datasets/iamsouravbanerjee/heart-attack-prediction-dataset\n",
            "Downloading heart-attack-prediction-dataset.zip to ./heart-attack-prediction-dataset\n"
          ]
        },
        {
          "output_type": "stream",
          "name": "stderr",
          "text": [
            "100%|██████████| 519k/519k [00:00<00:00, 803MB/s]"
          ]
        },
        {
          "output_type": "stream",
          "name": "stdout",
          "text": [
            "\n"
          ]
        },
        {
          "output_type": "stream",
          "name": "stderr",
          "text": [
            "\n"
          ]
        }
      ]
    },
    {
      "cell_type": "code",
      "source": [
        "import os\n",
        "os.chdir(\"heart-attack-prediction-dataset\")\n",
        "os.listdir()"
      ],
      "metadata": {
        "colab": {
          "base_uri": "https://localhost:8080/"
        },
        "id": "48w4OD8A6_Ns",
        "outputId": "ed474756-9077-4310-e0f4-d8755e219ba9"
      },
      "execution_count": 3,
      "outputs": [
        {
          "output_type": "execute_result",
          "data": {
            "text/plain": [
              "['heart_attack_prediction_dataset.csv']"
            ]
          },
          "metadata": {},
          "execution_count": 3
        }
      ]
    },
    {
      "cell_type": "code",
      "source": [
        "def convert_diet(diet):\n",
        "  if diet == 'Average':\n",
        "    return 0\n",
        "  elif diet == 'Unhealthy':\n",
        "    return 1\n",
        "  else:\n",
        "    return 0"
      ],
      "metadata": {
        "id": "RXkJE4QCyY7e"
      },
      "execution_count": 4,
      "outputs": []
    },
    {
      "cell_type": "code",
      "source": [
        "import pandas as pd\n",
        "import seaborn as sns\n",
        "import matplotlib.pyplot as plt\n",
        "import tensorflow as tf\n",
        "from tensorflow import keras\n",
        "ha=pd.read_csv(\"heart_attack_prediction_dataset.csv\")\n",
        "ha_pressure = ha[\"Blood Pressure\"].str.split(\"/\", n =1, expand = True)\n",
        "ha_pressure[1] = ha_pressure[1].astype(float)\n",
        "ha_pressure[0] = ha_pressure[0].astype(float)\n",
        "ha_pressure[\"Percentage\"] = ha_pressure[1] / ha_pressure[0] * 100\n",
        "ha_pressure[\"Classification\"] = ha_pressure[\"Percentage\"].apply(lambda x: 0 if x > 65 else 1)\n",
        "x= ha.drop(['Heart Attack Risk','Country','Continent','Hemisphere','Sex','Patient ID','Blood Pressure'], axis=1)\n",
        "x[\"Diet\"]=ha[\"Diet\"].apply(convert_diet)\n",
        "x[\"Classification\"] = ha_pressure[\"Classification\"]\n",
        "y=ha[['Heart Attack Risk']]\n",
        "x.head()\n"
      ],
      "metadata": {
        "id": "jdy0YrVd7E2e",
        "colab": {
          "base_uri": "https://localhost:8080/",
          "height": 193
        },
        "outputId": "af0f9e72-8c65-48af-b5f4-a12d8a87e27b"
      },
      "execution_count": 13,
      "outputs": [
        {
          "output_type": "error",
          "ename": "NameError",
          "evalue": "name 'train_test_split' is not defined",
          "traceback": [
            "\u001b[0;31m---------------------------------------------------------------------------\u001b[0m",
            "\u001b[0;31mNameError\u001b[0m                                 Traceback (most recent call last)",
            "\u001b[0;32m/tmp/ipython-input-13-2482661763.py\u001b[0m in \u001b[0;36m<cell line: 0>\u001b[0;34m()\u001b[0m\n\u001b[1;32m     15\u001b[0m \u001b[0my\u001b[0m\u001b[0;34m=\u001b[0m\u001b[0mha\u001b[0m\u001b[0;34m[\u001b[0m\u001b[0;34m[\u001b[0m\u001b[0;34m'Heart Attack Risk'\u001b[0m\u001b[0;34m]\u001b[0m\u001b[0;34m]\u001b[0m\u001b[0;34m\u001b[0m\u001b[0;34m\u001b[0m\u001b[0m\n\u001b[1;32m     16\u001b[0m \u001b[0mx\u001b[0m\u001b[0;34m.\u001b[0m\u001b[0mhead\u001b[0m\u001b[0;34m(\u001b[0m\u001b[0;34m)\u001b[0m\u001b[0;34m\u001b[0m\u001b[0;34m\u001b[0m\u001b[0m\n\u001b[0;32m---> 17\u001b[0;31m \u001b[0mtrain_x\u001b[0m\u001b[0;34m,\u001b[0m \u001b[0mtest_x\u001b[0m\u001b[0;34m,\u001b[0m \u001b[0mtrain_y\u001b[0m\u001b[0;34m,\u001b[0m \u001b[0mtest_y\u001b[0m \u001b[0;34m=\u001b[0m \u001b[0mtrain_test_split\u001b[0m\u001b[0;34m(\u001b[0m\u001b[0mx\u001b[0m\u001b[0;34m,\u001b[0m \u001b[0my\u001b[0m\u001b[0;34m,\u001b[0m \u001b[0mtest_size\u001b[0m\u001b[0;34m=\u001b[0m\u001b[0;36m0.2\u001b[0m\u001b[0;34m,\u001b[0m \u001b[0mrandom_state\u001b[0m\u001b[0;34m=\u001b[0m\u001b[0;36m0\u001b[0m\u001b[0;34m,\u001b[0m \u001b[0mstratify\u001b[0m\u001b[0;34m=\u001b[0m\u001b[0my\u001b[0m\u001b[0;34m)\u001b[0m\u001b[0;34m\u001b[0m\u001b[0;34m\u001b[0m\u001b[0m\n\u001b[0m\u001b[1;32m     18\u001b[0m \u001b[0;34m\u001b[0m\u001b[0m\n",
            "\u001b[0;31mNameError\u001b[0m: name 'train_test_split' is not defined"
          ]
        }
      ]
    },
    {
      "cell_type": "code",
      "source": [
        "from sklearn.model_selection import train_test_split\n",
        "train_x, test_x, train_y, test_y = train_test_split(x, y, test_size=0.2, random_state=0, stratify=y)\n",
        "\n"
      ],
      "metadata": {
        "id": "w-vgdY3QfNGM"
      },
      "execution_count": 14,
      "outputs": []
    },
    {
      "cell_type": "code",
      "source": [
        "from keras.models import Sequential\n",
        "from keras.layers import Dense\n",
        "from keras import layers\n",
        "\n",
        "model = Sequential()\n",
        "model.add(Dense(24, activation='relu'))\n",
        "model.add(Dense(12, activation='relu'))\n",
        "model.add(Dense(6, activation='relu'))\n",
        "model.add(Dense(1,activation='sigmoid'))\n",
        "model.compile(loss='mean_squared_error',\n",
        "              optimizer='rmsprop',\n",
        "              metrics=['accuracy'])\n",
        "model.fit(x, y, validation_split=0.2, epochs=100, batch_size=5, shuffle=True)"
      ],
      "metadata": {
        "colab": {
          "base_uri": "https://localhost:8080/"
        },
        "id": "HSWQbJOQ3sFw",
        "outputId": "f87b6802-ade6-4bad-b083-37518f71c264"
      },
      "execution_count": 20,
      "outputs": [
        {
          "output_type": "stream",
          "name": "stdout",
          "text": [
            "Epoch 1/100\n",
            "\u001b[1m1402/1402\u001b[0m \u001b[32m━━━━━━━━━━━━━━━━━━━━\u001b[0m\u001b[37m\u001b[0m \u001b[1m4s\u001b[0m 2ms/step - accuracy: 0.6217 - loss: 0.3783 - val_accuracy: 0.6554 - val_loss: 0.3446\n",
            "Epoch 2/100\n",
            "\u001b[1m1402/1402\u001b[0m \u001b[32m━━━━━━━━━━━━━━━━━━━━\u001b[0m\u001b[37m\u001b[0m \u001b[1m3s\u001b[0m 2ms/step - accuracy: 0.6346 - loss: 0.3654 - val_accuracy: 0.6554 - val_loss: 0.3446\n",
            "Epoch 3/100\n",
            "\u001b[1m1402/1402\u001b[0m \u001b[32m━━━━━━━━━━━━━━━━━━━━\u001b[0m\u001b[37m\u001b[0m \u001b[1m3s\u001b[0m 2ms/step - accuracy: 0.6338 - loss: 0.3662 - val_accuracy: 0.6554 - val_loss: 0.3446\n",
            "Epoch 4/100\n",
            "\u001b[1m1402/1402\u001b[0m \u001b[32m━━━━━━━━━━━━━━━━━━━━\u001b[0m\u001b[37m\u001b[0m \u001b[1m3s\u001b[0m 2ms/step - accuracy: 0.6333 - loss: 0.3667 - val_accuracy: 0.6554 - val_loss: 0.3446\n",
            "Epoch 5/100\n",
            "\u001b[1m1402/1402\u001b[0m \u001b[32m━━━━━━━━━━━━━━━━━━━━\u001b[0m\u001b[37m\u001b[0m \u001b[1m3s\u001b[0m 2ms/step - accuracy: 0.6382 - loss: 0.3618 - val_accuracy: 0.6554 - val_loss: 0.3446\n",
            "Epoch 6/100\n",
            "\u001b[1m1402/1402\u001b[0m \u001b[32m━━━━━━━━━━━━━━━━━━━━\u001b[0m\u001b[37m\u001b[0m \u001b[1m3s\u001b[0m 2ms/step - accuracy: 0.6378 - loss: 0.3622 - val_accuracy: 0.6554 - val_loss: 0.3446\n",
            "Epoch 7/100\n",
            "\u001b[1m1402/1402\u001b[0m \u001b[32m━━━━━━━━━━━━━━━━━━━━\u001b[0m\u001b[37m\u001b[0m \u001b[1m3s\u001b[0m 2ms/step - accuracy: 0.6321 - loss: 0.3679 - val_accuracy: 0.6554 - val_loss: 0.3446\n",
            "Epoch 8/100\n",
            "\u001b[1m1402/1402\u001b[0m \u001b[32m━━━━━━━━━━━━━━━━━━━━\u001b[0m\u001b[37m\u001b[0m \u001b[1m3s\u001b[0m 2ms/step - accuracy: 0.6432 - loss: 0.3568 - val_accuracy: 0.6554 - val_loss: 0.3446\n",
            "Epoch 9/100\n",
            "\u001b[1m1402/1402\u001b[0m \u001b[32m━━━━━━━━━━━━━━━━━━━━\u001b[0m\u001b[37m\u001b[0m \u001b[1m3s\u001b[0m 2ms/step - accuracy: 0.6427 - loss: 0.3573 - val_accuracy: 0.6554 - val_loss: 0.3446\n",
            "Epoch 10/100\n",
            "\u001b[1m1402/1402\u001b[0m \u001b[32m━━━━━━━━━━━━━━━━━━━━\u001b[0m\u001b[37m\u001b[0m \u001b[1m3s\u001b[0m 2ms/step - accuracy: 0.6314 - loss: 0.3686 - val_accuracy: 0.6554 - val_loss: 0.3446\n",
            "Epoch 11/100\n",
            "\u001b[1m1402/1402\u001b[0m \u001b[32m━━━━━━━━━━━━━━━━━━━━\u001b[0m\u001b[37m\u001b[0m \u001b[1m3s\u001b[0m 2ms/step - accuracy: 0.6412 - loss: 0.3588 - val_accuracy: 0.6554 - val_loss: 0.3446\n",
            "Epoch 12/100\n",
            "\u001b[1m1402/1402\u001b[0m \u001b[32m━━━━━━━━━━━━━━━━━━━━\u001b[0m\u001b[37m\u001b[0m \u001b[1m3s\u001b[0m 2ms/step - accuracy: 0.6342 - loss: 0.3658 - val_accuracy: 0.6554 - val_loss: 0.3446\n",
            "Epoch 13/100\n",
            "\u001b[1m1402/1402\u001b[0m \u001b[32m━━━━━━━━━━━━━━━━━━━━\u001b[0m\u001b[37m\u001b[0m \u001b[1m3s\u001b[0m 2ms/step - accuracy: 0.6484 - loss: 0.3516 - val_accuracy: 0.6554 - val_loss: 0.3446\n",
            "Epoch 14/100\n",
            "\u001b[1m1402/1402\u001b[0m \u001b[32m━━━━━━━━━━━━━━━━━━━━\u001b[0m\u001b[37m\u001b[0m \u001b[1m3s\u001b[0m 2ms/step - accuracy: 0.6354 - loss: 0.3646 - val_accuracy: 0.6554 - val_loss: 0.3446\n",
            "Epoch 15/100\n",
            "\u001b[1m1402/1402\u001b[0m \u001b[32m━━━━━━━━━━━━━━━━━━━━\u001b[0m\u001b[37m\u001b[0m \u001b[1m3s\u001b[0m 2ms/step - accuracy: 0.6401 - loss: 0.3599 - val_accuracy: 0.6554 - val_loss: 0.3446\n",
            "Epoch 16/100\n",
            "\u001b[1m1402/1402\u001b[0m \u001b[32m━━━━━━━━━━━━━━━━━━━━\u001b[0m\u001b[37m\u001b[0m \u001b[1m3s\u001b[0m 2ms/step - accuracy: 0.6364 - loss: 0.3636 - val_accuracy: 0.6554 - val_loss: 0.3446\n",
            "Epoch 17/100\n",
            "\u001b[1m1402/1402\u001b[0m \u001b[32m━━━━━━━━━━━━━━━━━━━━\u001b[0m\u001b[37m\u001b[0m \u001b[1m3s\u001b[0m 2ms/step - accuracy: 0.6415 - loss: 0.3585 - val_accuracy: 0.6554 - val_loss: 0.3446\n",
            "Epoch 18/100\n",
            "\u001b[1m1402/1402\u001b[0m \u001b[32m━━━━━━━━━━━━━━━━━━━━\u001b[0m\u001b[37m\u001b[0m \u001b[1m3s\u001b[0m 2ms/step - accuracy: 0.6386 - loss: 0.3614 - val_accuracy: 0.6554 - val_loss: 0.3446\n",
            "Epoch 19/100\n",
            "\u001b[1m1402/1402\u001b[0m \u001b[32m━━━━━━━━━━━━━━━━━━━━\u001b[0m\u001b[37m\u001b[0m \u001b[1m3s\u001b[0m 2ms/step - accuracy: 0.6516 - loss: 0.3484 - val_accuracy: 0.6554 - val_loss: 0.3446\n",
            "Epoch 20/100\n",
            "\u001b[1m1402/1402\u001b[0m \u001b[32m━━━━━━━━━━━━━━━━━━━━\u001b[0m\u001b[37m\u001b[0m \u001b[1m3s\u001b[0m 2ms/step - accuracy: 0.6420 - loss: 0.3580 - val_accuracy: 0.6554 - val_loss: 0.3446\n",
            "Epoch 21/100\n",
            "\u001b[1m1402/1402\u001b[0m \u001b[32m━━━━━━━━━━━━━━━━━━━━\u001b[0m\u001b[37m\u001b[0m \u001b[1m3s\u001b[0m 2ms/step - accuracy: 0.6363 - loss: 0.3637 - val_accuracy: 0.6554 - val_loss: 0.3446\n",
            "Epoch 22/100\n",
            "\u001b[1m1402/1402\u001b[0m \u001b[32m━━━━━━━━━━━━━━━━━━━━\u001b[0m\u001b[37m\u001b[0m \u001b[1m3s\u001b[0m 2ms/step - accuracy: 0.6387 - loss: 0.3613 - val_accuracy: 0.6554 - val_loss: 0.3446\n",
            "Epoch 23/100\n",
            "\u001b[1m1402/1402\u001b[0m \u001b[32m━━━━━━━━━━━━━━━━━━━━\u001b[0m\u001b[37m\u001b[0m \u001b[1m3s\u001b[0m 2ms/step - accuracy: 0.6340 - loss: 0.3660 - val_accuracy: 0.6554 - val_loss: 0.3446\n",
            "Epoch 24/100\n",
            "\u001b[1m1402/1402\u001b[0m \u001b[32m━━━━━━━━━━━━━━━━━━━━\u001b[0m\u001b[37m\u001b[0m \u001b[1m3s\u001b[0m 2ms/step - accuracy: 0.6293 - loss: 0.3707 - val_accuracy: 0.6554 - val_loss: 0.3446\n",
            "Epoch 25/100\n",
            "\u001b[1m1402/1402\u001b[0m \u001b[32m━━━━━━━━━━━━━━━━━━━━\u001b[0m\u001b[37m\u001b[0m \u001b[1m3s\u001b[0m 2ms/step - accuracy: 0.6406 - loss: 0.3594 - val_accuracy: 0.6554 - val_loss: 0.3446\n",
            "Epoch 26/100\n",
            "\u001b[1m1402/1402\u001b[0m \u001b[32m━━━━━━━━━━━━━━━━━━━━\u001b[0m\u001b[37m\u001b[0m \u001b[1m3s\u001b[0m 2ms/step - accuracy: 0.6383 - loss: 0.3617 - val_accuracy: 0.6554 - val_loss: 0.3446\n",
            "Epoch 27/100\n",
            "\u001b[1m1402/1402\u001b[0m \u001b[32m━━━━━━━━━━━━━━━━━━━━\u001b[0m\u001b[37m\u001b[0m \u001b[1m3s\u001b[0m 2ms/step - accuracy: 0.6307 - loss: 0.3693 - val_accuracy: 0.6554 - val_loss: 0.3446\n",
            "Epoch 28/100\n",
            "\u001b[1m1402/1402\u001b[0m \u001b[32m━━━━━━━━━━━━━━━━━━━━\u001b[0m\u001b[37m\u001b[0m \u001b[1m3s\u001b[0m 2ms/step - accuracy: 0.6284 - loss: 0.3716 - val_accuracy: 0.6554 - val_loss: 0.3446\n",
            "Epoch 29/100\n",
            "\u001b[1m1402/1402\u001b[0m \u001b[32m━━━━━━━━━━━━━━━━━━━━\u001b[0m\u001b[37m\u001b[0m \u001b[1m3s\u001b[0m 2ms/step - accuracy: 0.6332 - loss: 0.3668 - val_accuracy: 0.6554 - val_loss: 0.3446\n",
            "Epoch 30/100\n",
            "\u001b[1m1402/1402\u001b[0m \u001b[32m━━━━━━━━━━━━━━━━━━━━\u001b[0m\u001b[37m\u001b[0m \u001b[1m3s\u001b[0m 2ms/step - accuracy: 0.6518 - loss: 0.3482 - val_accuracy: 0.6554 - val_loss: 0.3446\n",
            "Epoch 31/100\n",
            "\u001b[1m1402/1402\u001b[0m \u001b[32m━━━━━━━━━━━━━━━━━━━━\u001b[0m\u001b[37m\u001b[0m \u001b[1m3s\u001b[0m 2ms/step - accuracy: 0.6400 - loss: 0.3600 - val_accuracy: 0.6554 - val_loss: 0.3446\n",
            "Epoch 32/100\n",
            "\u001b[1m1402/1402\u001b[0m \u001b[32m━━━━━━━━━━━━━━━━━━━━\u001b[0m\u001b[37m\u001b[0m \u001b[1m3s\u001b[0m 2ms/step - accuracy: 0.6444 - loss: 0.3556 - val_accuracy: 0.6554 - val_loss: 0.3446\n",
            "Epoch 33/100\n",
            "\u001b[1m1402/1402\u001b[0m \u001b[32m━━━━━━━━━━━━━━━━━━━━\u001b[0m\u001b[37m\u001b[0m \u001b[1m3s\u001b[0m 2ms/step - accuracy: 0.6426 - loss: 0.3574 - val_accuracy: 0.6554 - val_loss: 0.3446\n",
            "Epoch 34/100\n",
            "\u001b[1m1402/1402\u001b[0m \u001b[32m━━━━━━━━━━━━━━━━━━━━\u001b[0m\u001b[37m\u001b[0m \u001b[1m3s\u001b[0m 2ms/step - accuracy: 0.6344 - loss: 0.3656 - val_accuracy: 0.6554 - val_loss: 0.3446\n",
            "Epoch 35/100\n",
            "\u001b[1m1402/1402\u001b[0m \u001b[32m━━━━━━━━━━━━━━━━━━━━\u001b[0m\u001b[37m\u001b[0m \u001b[1m3s\u001b[0m 2ms/step - accuracy: 0.6492 - loss: 0.3508 - val_accuracy: 0.6554 - val_loss: 0.3446\n",
            "Epoch 36/100\n",
            "\u001b[1m1402/1402\u001b[0m \u001b[32m━━━━━━━━━━━━━━━━━━━━\u001b[0m\u001b[37m\u001b[0m \u001b[1m3s\u001b[0m 2ms/step - accuracy: 0.6399 - loss: 0.3601 - val_accuracy: 0.6554 - val_loss: 0.3446\n",
            "Epoch 37/100\n",
            "\u001b[1m1402/1402\u001b[0m \u001b[32m━━━━━━━━━━━━━━━━━━━━\u001b[0m\u001b[37m\u001b[0m \u001b[1m3s\u001b[0m 2ms/step - accuracy: 0.6423 - loss: 0.3577 - val_accuracy: 0.6554 - val_loss: 0.3446\n",
            "Epoch 38/100\n",
            "\u001b[1m1402/1402\u001b[0m \u001b[32m━━━━━━━━━━━━━━━━━━━━\u001b[0m\u001b[37m\u001b[0m \u001b[1m3s\u001b[0m 2ms/step - accuracy: 0.6401 - loss: 0.3599 - val_accuracy: 0.6554 - val_loss: 0.3446\n",
            "Epoch 39/100\n",
            "\u001b[1m1402/1402\u001b[0m \u001b[32m━━━━━━━━━━━━━━━━━━━━\u001b[0m\u001b[37m\u001b[0m \u001b[1m3s\u001b[0m 2ms/step - accuracy: 0.6435 - loss: 0.3565 - val_accuracy: 0.6554 - val_loss: 0.3446\n",
            "Epoch 40/100\n",
            "\u001b[1m1402/1402\u001b[0m \u001b[32m━━━━━━━━━━━━━━━━━━━━\u001b[0m\u001b[37m\u001b[0m \u001b[1m3s\u001b[0m 2ms/step - accuracy: 0.6298 - loss: 0.3702 - val_accuracy: 0.6554 - val_loss: 0.3446\n",
            "Epoch 41/100\n",
            "\u001b[1m1402/1402\u001b[0m \u001b[32m━━━━━━━━━━━━━━━━━━━━\u001b[0m\u001b[37m\u001b[0m \u001b[1m3s\u001b[0m 2ms/step - accuracy: 0.6421 - loss: 0.3579 - val_accuracy: 0.6554 - val_loss: 0.3446\n",
            "Epoch 42/100\n",
            "\u001b[1m1402/1402\u001b[0m \u001b[32m━━━━━━━━━━━━━━━━━━━━\u001b[0m\u001b[37m\u001b[0m \u001b[1m3s\u001b[0m 2ms/step - accuracy: 0.6385 - loss: 0.3615 - val_accuracy: 0.6554 - val_loss: 0.3446\n",
            "Epoch 43/100\n",
            "\u001b[1m1402/1402\u001b[0m \u001b[32m━━━━━━━━━━━━━━━━━━━━\u001b[0m\u001b[37m\u001b[0m \u001b[1m3s\u001b[0m 2ms/step - accuracy: 0.6340 - loss: 0.3660 - val_accuracy: 0.6554 - val_loss: 0.3446\n",
            "Epoch 44/100\n",
            "\u001b[1m1402/1402\u001b[0m \u001b[32m━━━━━━━━━━━━━━━━━━━━\u001b[0m\u001b[37m\u001b[0m \u001b[1m3s\u001b[0m 2ms/step - accuracy: 0.6364 - loss: 0.3636 - val_accuracy: 0.6554 - val_loss: 0.3446\n",
            "Epoch 45/100\n",
            "\u001b[1m1402/1402\u001b[0m \u001b[32m━━━━━━━━━━━━━━━━━━━━\u001b[0m\u001b[37m\u001b[0m \u001b[1m3s\u001b[0m 2ms/step - accuracy: 0.6373 - loss: 0.3627 - val_accuracy: 0.6554 - val_loss: 0.3446\n",
            "Epoch 46/100\n",
            "\u001b[1m1402/1402\u001b[0m \u001b[32m━━━━━━━━━━━━━━━━━━━━\u001b[0m\u001b[37m\u001b[0m \u001b[1m3s\u001b[0m 2ms/step - accuracy: 0.6363 - loss: 0.3637 - val_accuracy: 0.6554 - val_loss: 0.3446\n",
            "Epoch 47/100\n",
            "\u001b[1m1402/1402\u001b[0m \u001b[32m━━━━━━━━━━━━━━━━━━━━\u001b[0m\u001b[37m\u001b[0m \u001b[1m3s\u001b[0m 2ms/step - accuracy: 0.6270 - loss: 0.3730 - val_accuracy: 0.6554 - val_loss: 0.3446\n",
            "Epoch 48/100\n",
            "\u001b[1m1402/1402\u001b[0m \u001b[32m━━━━━━━━━━━━━━━━━━━━\u001b[0m\u001b[37m\u001b[0m \u001b[1m3s\u001b[0m 2ms/step - accuracy: 0.6344 - loss: 0.3656 - val_accuracy: 0.6554 - val_loss: 0.3446\n",
            "Epoch 49/100\n",
            "\u001b[1m1402/1402\u001b[0m \u001b[32m━━━━━━━━━━━━━━━━━━━━\u001b[0m\u001b[37m\u001b[0m \u001b[1m3s\u001b[0m 2ms/step - accuracy: 0.6410 - loss: 0.3590 - val_accuracy: 0.6554 - val_loss: 0.3446\n",
            "Epoch 50/100\n",
            "\u001b[1m1402/1402\u001b[0m \u001b[32m━━━━━━━━━━━━━━━━━━━━\u001b[0m\u001b[37m\u001b[0m \u001b[1m3s\u001b[0m 2ms/step - accuracy: 0.6354 - loss: 0.3646 - val_accuracy: 0.6554 - val_loss: 0.3446\n",
            "Epoch 51/100\n",
            "\u001b[1m1402/1402\u001b[0m \u001b[32m━━━━━━━━━━━━━━━━━━━━\u001b[0m\u001b[37m\u001b[0m \u001b[1m3s\u001b[0m 2ms/step - accuracy: 0.6407 - loss: 0.3593 - val_accuracy: 0.6554 - val_loss: 0.3446\n",
            "Epoch 52/100\n",
            "\u001b[1m1402/1402\u001b[0m \u001b[32m━━━━━━━━━━━━━━━━━━━━\u001b[0m\u001b[37m\u001b[0m \u001b[1m3s\u001b[0m 2ms/step - accuracy: 0.6354 - loss: 0.3646 - val_accuracy: 0.6554 - val_loss: 0.3446\n",
            "Epoch 53/100\n",
            "\u001b[1m1402/1402\u001b[0m \u001b[32m━━━━━━━━━━━━━━━━━━━━\u001b[0m\u001b[37m\u001b[0m \u001b[1m3s\u001b[0m 2ms/step - accuracy: 0.6478 - loss: 0.3522 - val_accuracy: 0.6554 - val_loss: 0.3446\n",
            "Epoch 54/100\n",
            "\u001b[1m1402/1402\u001b[0m \u001b[32m━━━━━━━━━━━━━━━━━━━━\u001b[0m\u001b[37m\u001b[0m \u001b[1m3s\u001b[0m 2ms/step - accuracy: 0.6364 - loss: 0.3636 - val_accuracy: 0.6554 - val_loss: 0.3446\n",
            "Epoch 55/100\n",
            "\u001b[1m1402/1402\u001b[0m \u001b[32m━━━━━━━━━━━━━━━━━━━━\u001b[0m\u001b[37m\u001b[0m \u001b[1m3s\u001b[0m 2ms/step - accuracy: 0.6383 - loss: 0.3617 - val_accuracy: 0.6554 - val_loss: 0.3446\n",
            "Epoch 56/100\n",
            "\u001b[1m1402/1402\u001b[0m \u001b[32m━━━━━━━━━━━━━━━━━━━━\u001b[0m\u001b[37m\u001b[0m \u001b[1m3s\u001b[0m 2ms/step - accuracy: 0.6310 - loss: 0.3690 - val_accuracy: 0.6554 - val_loss: 0.3446\n",
            "Epoch 57/100\n",
            "\u001b[1m1402/1402\u001b[0m \u001b[32m━━━━━━━━━━━━━━━━━━━━\u001b[0m\u001b[37m\u001b[0m \u001b[1m3s\u001b[0m 2ms/step - accuracy: 0.6363 - loss: 0.3637 - val_accuracy: 0.6554 - val_loss: 0.3446\n",
            "Epoch 58/100\n",
            "\u001b[1m1402/1402\u001b[0m \u001b[32m━━━━━━━━━━━━━━━━━━━━\u001b[0m\u001b[37m\u001b[0m \u001b[1m3s\u001b[0m 2ms/step - accuracy: 0.6408 - loss: 0.3592 - val_accuracy: 0.6554 - val_loss: 0.3446\n",
            "Epoch 59/100\n",
            "\u001b[1m1402/1402\u001b[0m \u001b[32m━━━━━━━━━━━━━━━━━━━━\u001b[0m\u001b[37m\u001b[0m \u001b[1m3s\u001b[0m 2ms/step - accuracy: 0.6436 - loss: 0.3564 - val_accuracy: 0.6554 - val_loss: 0.3446\n",
            "Epoch 60/100\n",
            "\u001b[1m1402/1402\u001b[0m \u001b[32m━━━━━━━━━━━━━━━━━━━━\u001b[0m\u001b[37m\u001b[0m \u001b[1m3s\u001b[0m 2ms/step - accuracy: 0.6367 - loss: 0.3633 - val_accuracy: 0.6554 - val_loss: 0.3446\n",
            "Epoch 61/100\n",
            "\u001b[1m1402/1402\u001b[0m \u001b[32m━━━━━━━━━━━━━━━━━━━━\u001b[0m\u001b[37m\u001b[0m \u001b[1m3s\u001b[0m 2ms/step - accuracy: 0.6412 - loss: 0.3588 - val_accuracy: 0.6554 - val_loss: 0.3446\n",
            "Epoch 62/100\n",
            "\u001b[1m1402/1402\u001b[0m \u001b[32m━━━━━━━━━━━━━━━━━━━━\u001b[0m\u001b[37m\u001b[0m \u001b[1m3s\u001b[0m 2ms/step - accuracy: 0.6468 - loss: 0.3532 - val_accuracy: 0.6554 - val_loss: 0.3446\n",
            "Epoch 63/100\n",
            "\u001b[1m1402/1402\u001b[0m \u001b[32m━━━━━━━━━━━━━━━━━━━━\u001b[0m\u001b[37m\u001b[0m \u001b[1m3s\u001b[0m 2ms/step - accuracy: 0.6395 - loss: 0.3605 - val_accuracy: 0.6554 - val_loss: 0.3446\n",
            "Epoch 64/100\n",
            "\u001b[1m1402/1402\u001b[0m \u001b[32m━━━━━━━━━━━━━━━━━━━━\u001b[0m\u001b[37m\u001b[0m \u001b[1m3s\u001b[0m 2ms/step - accuracy: 0.6450 - loss: 0.3550 - val_accuracy: 0.6554 - val_loss: 0.3446\n",
            "Epoch 65/100\n",
            "\u001b[1m1402/1402\u001b[0m \u001b[32m━━━━━━━━━━━━━━━━━━━━\u001b[0m\u001b[37m\u001b[0m \u001b[1m3s\u001b[0m 2ms/step - accuracy: 0.6374 - loss: 0.3626 - val_accuracy: 0.6554 - val_loss: 0.3446\n",
            "Epoch 66/100\n",
            "\u001b[1m1402/1402\u001b[0m \u001b[32m━━━━━━━━━━━━━━━━━━━━\u001b[0m\u001b[37m\u001b[0m \u001b[1m3s\u001b[0m 2ms/step - accuracy: 0.6353 - loss: 0.3647 - val_accuracy: 0.6554 - val_loss: 0.3446\n",
            "Epoch 67/100\n",
            "\u001b[1m1402/1402\u001b[0m \u001b[32m━━━━━━━━━━━━━━━━━━━━\u001b[0m\u001b[37m\u001b[0m \u001b[1m3s\u001b[0m 2ms/step - accuracy: 0.6418 - loss: 0.3582 - val_accuracy: 0.6554 - val_loss: 0.3446\n",
            "Epoch 68/100\n",
            "\u001b[1m1402/1402\u001b[0m \u001b[32m━━━━━━━━━━━━━━━━━━━━\u001b[0m\u001b[37m\u001b[0m \u001b[1m3s\u001b[0m 2ms/step - accuracy: 0.6471 - loss: 0.3529 - val_accuracy: 0.6554 - val_loss: 0.3446\n",
            "Epoch 69/100\n",
            "\u001b[1m1402/1402\u001b[0m \u001b[32m━━━━━━━━━━━━━━━━━━━━\u001b[0m\u001b[37m\u001b[0m \u001b[1m3s\u001b[0m 2ms/step - accuracy: 0.6410 - loss: 0.3590 - val_accuracy: 0.6554 - val_loss: 0.3446\n",
            "Epoch 70/100\n",
            "\u001b[1m1402/1402\u001b[0m \u001b[32m━━━━━━━━━━━━━━━━━━━━\u001b[0m\u001b[37m\u001b[0m \u001b[1m3s\u001b[0m 2ms/step - accuracy: 0.6278 - loss: 0.3722 - val_accuracy: 0.6554 - val_loss: 0.3446\n",
            "Epoch 71/100\n",
            "\u001b[1m1402/1402\u001b[0m \u001b[32m━━━━━━━━━━━━━━━━━━━━\u001b[0m\u001b[37m\u001b[0m \u001b[1m3s\u001b[0m 2ms/step - accuracy: 0.6397 - loss: 0.3603 - val_accuracy: 0.6554 - val_loss: 0.3446\n",
            "Epoch 72/100\n",
            "\u001b[1m1402/1402\u001b[0m \u001b[32m━━━━━━━━━━━━━━━━━━━━\u001b[0m\u001b[37m\u001b[0m \u001b[1m3s\u001b[0m 2ms/step - accuracy: 0.6461 - loss: 0.3539 - val_accuracy: 0.6554 - val_loss: 0.3446\n",
            "Epoch 73/100\n",
            "\u001b[1m1402/1402\u001b[0m \u001b[32m━━━━━━━━━━━━━━━━━━━━\u001b[0m\u001b[37m\u001b[0m \u001b[1m3s\u001b[0m 2ms/step - accuracy: 0.6278 - loss: 0.3722 - val_accuracy: 0.6554 - val_loss: 0.3446\n",
            "Epoch 74/100\n",
            "\u001b[1m1402/1402\u001b[0m \u001b[32m━━━━━━━━━━━━━━━━━━━━\u001b[0m\u001b[37m\u001b[0m \u001b[1m3s\u001b[0m 2ms/step - accuracy: 0.6309 - loss: 0.3691 - val_accuracy: 0.6554 - val_loss: 0.3446\n",
            "Epoch 75/100\n",
            "\u001b[1m1402/1402\u001b[0m \u001b[32m━━━━━━━━━━━━━━━━━━━━\u001b[0m\u001b[37m\u001b[0m \u001b[1m3s\u001b[0m 2ms/step - accuracy: 0.6393 - loss: 0.3607 - val_accuracy: 0.6554 - val_loss: 0.3446\n",
            "Epoch 76/100\n",
            "\u001b[1m1402/1402\u001b[0m \u001b[32m━━━━━━━━━━━━━━━━━━━━\u001b[0m\u001b[37m\u001b[0m \u001b[1m3s\u001b[0m 2ms/step - accuracy: 0.6338 - loss: 0.3662 - val_accuracy: 0.6554 - val_loss: 0.3446\n",
            "Epoch 77/100\n",
            "\u001b[1m1402/1402\u001b[0m \u001b[32m━━━━━━━━━━━━━━━━━━━━\u001b[0m\u001b[37m\u001b[0m \u001b[1m3s\u001b[0m 2ms/step - accuracy: 0.6453 - loss: 0.3547 - val_accuracy: 0.6554 - val_loss: 0.3446\n",
            "Epoch 78/100\n",
            "\u001b[1m1402/1402\u001b[0m \u001b[32m━━━━━━━━━━━━━━━━━━━━\u001b[0m\u001b[37m\u001b[0m \u001b[1m3s\u001b[0m 2ms/step - accuracy: 0.6414 - loss: 0.3586 - val_accuracy: 0.6554 - val_loss: 0.3446\n",
            "Epoch 79/100\n",
            "\u001b[1m1402/1402\u001b[0m \u001b[32m━━━━━━━━━━━━━━━━━━━━\u001b[0m\u001b[37m\u001b[0m \u001b[1m3s\u001b[0m 2ms/step - accuracy: 0.6388 - loss: 0.3612 - val_accuracy: 0.6554 - val_loss: 0.3446\n",
            "Epoch 80/100\n",
            "\u001b[1m1402/1402\u001b[0m \u001b[32m━━━━━━━━━━━━━━━━━━━━\u001b[0m\u001b[37m\u001b[0m \u001b[1m3s\u001b[0m 2ms/step - accuracy: 0.6315 - loss: 0.3685 - val_accuracy: 0.6554 - val_loss: 0.3446\n",
            "Epoch 81/100\n",
            "\u001b[1m1402/1402\u001b[0m \u001b[32m━━━━━━━━━━━━━━━━━━━━\u001b[0m\u001b[37m\u001b[0m \u001b[1m3s\u001b[0m 2ms/step - accuracy: 0.6425 - loss: 0.3575 - val_accuracy: 0.6554 - val_loss: 0.3446\n",
            "Epoch 82/100\n",
            "\u001b[1m1402/1402\u001b[0m \u001b[32m━━━━━━━━━━━━━━━━━━━━\u001b[0m\u001b[37m\u001b[0m \u001b[1m3s\u001b[0m 2ms/step - accuracy: 0.6514 - loss: 0.3486 - val_accuracy: 0.6554 - val_loss: 0.3446\n",
            "Epoch 83/100\n",
            "\u001b[1m1402/1402\u001b[0m \u001b[32m━━━━━━━━━━━━━━━━━━━━\u001b[0m\u001b[37m\u001b[0m \u001b[1m3s\u001b[0m 2ms/step - accuracy: 0.6417 - loss: 0.3583 - val_accuracy: 0.6554 - val_loss: 0.3446\n",
            "Epoch 84/100\n",
            "\u001b[1m1402/1402\u001b[0m \u001b[32m━━━━━━━━━━━━━━━━━━━━\u001b[0m\u001b[37m\u001b[0m \u001b[1m3s\u001b[0m 2ms/step - accuracy: 0.6506 - loss: 0.3494 - val_accuracy: 0.6554 - val_loss: 0.3446\n",
            "Epoch 85/100\n",
            "\u001b[1m1402/1402\u001b[0m \u001b[32m━━━━━━━━━━━━━━━━━━━━\u001b[0m\u001b[37m\u001b[0m \u001b[1m3s\u001b[0m 2ms/step - accuracy: 0.6422 - loss: 0.3578 - val_accuracy: 0.6554 - val_loss: 0.3446\n",
            "Epoch 86/100\n",
            "\u001b[1m1402/1402\u001b[0m \u001b[32m━━━━━━━━━━━━━━━━━━━━\u001b[0m\u001b[37m\u001b[0m \u001b[1m3s\u001b[0m 2ms/step - accuracy: 0.6396 - loss: 0.3604 - val_accuracy: 0.6554 - val_loss: 0.3446\n",
            "Epoch 87/100\n",
            "\u001b[1m1402/1402\u001b[0m \u001b[32m━━━━━━━━━━━━━━━━━━━━\u001b[0m\u001b[37m\u001b[0m \u001b[1m3s\u001b[0m 2ms/step - accuracy: 0.6429 - loss: 0.3571 - val_accuracy: 0.6554 - val_loss: 0.3446\n",
            "Epoch 88/100\n",
            "\u001b[1m1402/1402\u001b[0m \u001b[32m━━━━━━━━━━━━━━━━━━━━\u001b[0m\u001b[37m\u001b[0m \u001b[1m3s\u001b[0m 2ms/step - accuracy: 0.6433 - loss: 0.3567 - val_accuracy: 0.6554 - val_loss: 0.3446\n",
            "Epoch 89/100\n",
            "\u001b[1m1402/1402\u001b[0m \u001b[32m━━━━━━━━━━━━━━━━━━━━\u001b[0m\u001b[37m\u001b[0m \u001b[1m3s\u001b[0m 2ms/step - accuracy: 0.6456 - loss: 0.3544 - val_accuracy: 0.6554 - val_loss: 0.3446\n",
            "Epoch 90/100\n",
            "\u001b[1m1402/1402\u001b[0m \u001b[32m━━━━━━━━━━━━━━━━━━━━\u001b[0m\u001b[37m\u001b[0m \u001b[1m3s\u001b[0m 2ms/step - accuracy: 0.6409 - loss: 0.3591 - val_accuracy: 0.6554 - val_loss: 0.3446\n",
            "Epoch 91/100\n",
            "\u001b[1m1402/1402\u001b[0m \u001b[32m━━━━━━━━━━━━━━━━━━━━\u001b[0m\u001b[37m\u001b[0m \u001b[1m3s\u001b[0m 2ms/step - accuracy: 0.6420 - loss: 0.3580 - val_accuracy: 0.6554 - val_loss: 0.3446\n",
            "Epoch 92/100\n",
            "\u001b[1m1402/1402\u001b[0m \u001b[32m━━━━━━━━━━━━━━━━━━━━\u001b[0m\u001b[37m\u001b[0m \u001b[1m3s\u001b[0m 2ms/step - accuracy: 0.6381 - loss: 0.3619 - val_accuracy: 0.6554 - val_loss: 0.3446\n",
            "Epoch 93/100\n",
            "\u001b[1m1402/1402\u001b[0m \u001b[32m━━━━━━━━━━━━━━━━━━━━\u001b[0m\u001b[37m\u001b[0m \u001b[1m3s\u001b[0m 2ms/step - accuracy: 0.6390 - loss: 0.3610 - val_accuracy: 0.6554 - val_loss: 0.3446\n",
            "Epoch 94/100\n",
            "\u001b[1m1402/1402\u001b[0m \u001b[32m━━━━━━━━━━━━━━━━━━━━\u001b[0m\u001b[37m\u001b[0m \u001b[1m3s\u001b[0m 2ms/step - accuracy: 0.6480 - loss: 0.3520 - val_accuracy: 0.6554 - val_loss: 0.3446\n",
            "Epoch 95/100\n",
            "\u001b[1m1402/1402\u001b[0m \u001b[32m━━━━━━━━━━━━━━━━━━━━\u001b[0m\u001b[37m\u001b[0m \u001b[1m3s\u001b[0m 2ms/step - accuracy: 0.6386 - loss: 0.3614 - val_accuracy: 0.6554 - val_loss: 0.3446\n",
            "Epoch 96/100\n",
            "\u001b[1m1402/1402\u001b[0m \u001b[32m━━━━━━━━━━━━━━━━━━━━\u001b[0m\u001b[37m\u001b[0m \u001b[1m3s\u001b[0m 2ms/step - accuracy: 0.6387 - loss: 0.3613 - val_accuracy: 0.6554 - val_loss: 0.3446\n",
            "Epoch 97/100\n",
            "\u001b[1m1402/1402\u001b[0m \u001b[32m━━━━━━━━━━━━━━━━━━━━\u001b[0m\u001b[37m\u001b[0m \u001b[1m3s\u001b[0m 2ms/step - accuracy: 0.6355 - loss: 0.3645 - val_accuracy: 0.6554 - val_loss: 0.3446\n",
            "Epoch 98/100\n",
            "\u001b[1m1402/1402\u001b[0m \u001b[32m━━━━━━━━━━━━━━━━━━━━\u001b[0m\u001b[37m\u001b[0m \u001b[1m3s\u001b[0m 2ms/step - accuracy: 0.6372 - loss: 0.3628 - val_accuracy: 0.6554 - val_loss: 0.3446\n",
            "Epoch 99/100\n",
            "\u001b[1m1402/1402\u001b[0m \u001b[32m━━━━━━━━━━━━━━━━━━━━\u001b[0m\u001b[37m\u001b[0m \u001b[1m3s\u001b[0m 2ms/step - accuracy: 0.6387 - loss: 0.3613 - val_accuracy: 0.6554 - val_loss: 0.3446\n",
            "Epoch 100/100\n",
            "\u001b[1m1402/1402\u001b[0m \u001b[32m━━━━━━━━━━━━━━━━━━━━\u001b[0m\u001b[37m\u001b[0m \u001b[1m3s\u001b[0m 2ms/step - accuracy: 0.6265 - loss: 0.3735 - val_accuracy: 0.6554 - val_loss: 0.3446\n"
          ]
        },
        {
          "output_type": "execute_result",
          "data": {
            "text/plain": [
              "<keras.src.callbacks.history.History at 0x7b1ee48d0d90>"
            ]
          },
          "metadata": {},
          "execution_count": 20
        }
      ]
    },
    {
      "cell_type": "code",
      "source": [
        "scores = model.evaluate(test_x, test_y)\n",
        "print(\"\\n%s: %.2f%%\" % (model.metrics_names[1], scores[1]*100))"
      ],
      "metadata": {
        "colab": {
          "base_uri": "https://localhost:8080/"
        },
        "id": "IZi_J8DRFQAm",
        "outputId": "3b34510c-0818-4387-cbf2-24365e81f09f"
      },
      "execution_count": 21,
      "outputs": [
        {
          "output_type": "stream",
          "name": "stdout",
          "text": [
            "\u001b[1m55/55\u001b[0m \u001b[32m━━━━━━━━━━━━━━━━━━━━\u001b[0m\u001b[37m\u001b[0m \u001b[1m0s\u001b[0m 2ms/step - accuracy: 0.6400 - loss: 0.3600\n",
            "\n",
            "compile_metrics: 64.18%\n"
          ]
        }
      ]
    }
  ]
}
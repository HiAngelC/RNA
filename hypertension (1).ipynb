{
  "nbformat": 4,
  "nbformat_minor": 0,
  "metadata": {
    "colab": {
      "provenance": []
    },
    "kernelspec": {
      "name": "python3",
      "display_name": "Python 3"
    },
    "language_info": {
      "name": "python"
    }
  },
  "cells": [
    {
      "cell_type": "code",
      "execution_count": 7,
      "metadata": {
        "id": "a3g3U35yQ2RK"
      },
      "outputs": [],
      "source": [
        "import pandas as pd\n",
        "import seaborn as sns\n",
        "import matplotlib.pyplot as plt\n",
        "import tensorflow as tf\n",
        "from tensorflow import keras\n",
        "\n",
        "import opendatasets as od\n",
        "import os"
      ]
    },
    {
      "cell_type": "code",
      "source": [
        "dataset_link=\"https://www.kaggle.com/datasets/miadul/hypertension-risk-prediction-dataset\"\n",
        "od.download(dataset_link)\n",
        "\n"
      ],
      "metadata": {
        "colab": {
          "base_uri": "https://localhost:8080/"
        },
        "id": "bSTaQ09sQ6J2",
        "outputId": "70dde531-d0e4-4da6-f72a-cfe629b003e2"
      },
      "execution_count": 8,
      "outputs": [
        {
          "output_type": "stream",
          "name": "stdout",
          "text": [
            "Skipping, found downloaded files in \"./hypertension-risk-prediction-dataset\" (use force=True to force download)\n"
          ]
        }
      ]
    },
    {
      "cell_type": "code",
      "source": [
        "os.chdir(\"hypertension-risk-prediction-dataset\")\n",
        "os.listdir()"
      ],
      "metadata": {
        "colab": {
          "base_uri": "https://localhost:8080/"
        },
        "id": "PeDxZixZRJ7D",
        "outputId": "40d98181-b1e6-4e72-dca1-85d56ec10fff"
      },
      "execution_count": 10,
      "outputs": [
        {
          "output_type": "execute_result",
          "data": {
            "text/plain": [
              "['hypertension_dataset.csv']"
            ]
          },
          "metadata": {},
          "execution_count": 10
        }
      ]
    },
    {
      "cell_type": "code",
      "source": [
        "dds=pd.read_csv(\"hypertension_dataset.csv\")\n",
        "dds.info()"
      ],
      "metadata": {
        "colab": {
          "base_uri": "https://localhost:8080/"
        },
        "id": "vzZuPIZ8RV0M",
        "outputId": "2f156a6e-16e5-45b4-f6c5-e4bef049d6fb"
      },
      "execution_count": 20,
      "outputs": [
        {
          "output_type": "stream",
          "name": "stdout",
          "text": [
            "<class 'pandas.core.frame.DataFrame'>\n",
            "RangeIndex: 1985 entries, 0 to 1984\n",
            "Data columns (total 11 columns):\n",
            " #   Column            Non-Null Count  Dtype  \n",
            "---  ------            --------------  -----  \n",
            " 0   Age               1985 non-null   int64  \n",
            " 1   Salt_Intake       1985 non-null   float64\n",
            " 2   Stress_Score      1985 non-null   int64  \n",
            " 3   BP_History        1985 non-null   object \n",
            " 4   Sleep_Duration    1985 non-null   float64\n",
            " 5   BMI               1985 non-null   float64\n",
            " 6   Medication        1186 non-null   object \n",
            " 7   Family_History    1985 non-null   object \n",
            " 8   Exercise_Level    1985 non-null   object \n",
            " 9   Smoking_Status    1985 non-null   object \n",
            " 10  Has_Hypertension  1985 non-null   object \n",
            "dtypes: float64(3), int64(2), object(6)\n",
            "memory usage: 170.7+ KB\n"
          ]
        }
      ]
    },
    {
      "cell_type": "code",
      "source": [
        "from sklearn.preprocessing import LabelEncoder\n",
        "\n",
        "cols_to_encode = ['BP_History', 'Medication', 'Family_History',\n",
        "                 'Exercise_Level', 'Smoking_Status', 'Has_Hypertension']\n",
        "\n",
        "dds[cols_to_encode] = dds[cols_to_encode].apply(LabelEncoder().fit_transform)\n",
        "dds.info()"
      ],
      "metadata": {
        "colab": {
          "base_uri": "https://localhost:8080/"
        },
        "id": "0e0IRHJURcAy",
        "outputId": "748c80de-10ef-4160-9311-da7a756ff7e0"
      },
      "execution_count": 27,
      "outputs": [
        {
          "output_type": "stream",
          "name": "stdout",
          "text": [
            "<class 'pandas.core.frame.DataFrame'>\n",
            "RangeIndex: 1985 entries, 0 to 1984\n",
            "Data columns (total 11 columns):\n",
            " #   Column            Non-Null Count  Dtype  \n",
            "---  ------            --------------  -----  \n",
            " 0   Age               1985 non-null   int64  \n",
            " 1   Salt_Intake       1985 non-null   float64\n",
            " 2   Stress_Score      1985 non-null   int64  \n",
            " 3   BP_History        1985 non-null   int64  \n",
            " 4   Sleep_Duration    1985 non-null   float64\n",
            " 5   BMI               1985 non-null   float64\n",
            " 6   Medication        1985 non-null   int64  \n",
            " 7   Family_History    1985 non-null   int64  \n",
            " 8   Exercise_Level    1985 non-null   int64  \n",
            " 9   Smoking_Status    1985 non-null   int64  \n",
            " 10  Has_Hypertension  1985 non-null   int64  \n",
            "dtypes: float64(3), int64(8)\n",
            "memory usage: 170.7 KB\n"
          ]
        }
      ]
    },
    {
      "cell_type": "code",
      "source": [
        "from sklearn.tree import DecisionTreeClassifier\n",
        "from sklearn.model_selection import train_test_split\n",
        "from sklearn.metrics import accuracy_score\n",
        "from sklearn.model_selection import cross_val_score\n",
        "\n",
        "\n",
        "x = dds.drop('Has_Hypertension', axis=1)\n",
        "y = dds['Has_Hypertension']\n",
        "train_x, test_x, train_y, test_y = train_test_split(x, y, test_size=0.2, random_state=1, stratify=y)"
      ],
      "metadata": {
        "id": "1dHmD4o4XeBd"
      },
      "execution_count": 30,
      "outputs": []
    },
    {
      "cell_type": "code",
      "source": [
        "from tensorflow.keras.models import Sequential\n",
        "from tensorflow.keras.layers import Dense, Dropout\n",
        "\n",
        "model = Sequential()\n",
        "model.add(Dense(128, activation='relu'))\n",
        "model.add(Dense(128, activation='relu'))\n",
        "model.add(Dense(1, activation='sigmoid'))\n",
        "\n",
        "model.compile(loss='binary_crossentropy', metrics=['accuracy'], optimizer='rmsprop')\n",
        "model.fit(x, y, validation_split=0.2, epochs=20, batch_size=5, shuffle=True)"
      ],
      "metadata": {
        "colab": {
          "base_uri": "https://localhost:8080/"
        },
        "id": "uryuVTCUYNML",
        "outputId": "0b03ee54-61cc-41e4-e516-f657e0e149cb"
      },
      "execution_count": 31,
      "outputs": [
        {
          "output_type": "stream",
          "name": "stdout",
          "text": [
            "Epoch 1/20\n",
            "\u001b[1m318/318\u001b[0m \u001b[32m━━━━━━━━━━━━━━━━━━━━\u001b[0m\u001b[37m\u001b[0m \u001b[1m2s\u001b[0m 2ms/step - accuracy: 0.5444 - loss: 1.1778 - val_accuracy: 0.6171 - val_loss: 0.7231\n",
            "Epoch 2/20\n",
            "\u001b[1m318/318\u001b[0m \u001b[32m━━━━━━━━━━━━━━━━━━━━\u001b[0m\u001b[37m\u001b[0m \u001b[1m1s\u001b[0m 2ms/step - accuracy: 0.6695 - loss: 0.6520 - val_accuracy: 0.5113 - val_loss: 1.1637\n",
            "Epoch 3/20\n",
            "\u001b[1m318/318\u001b[0m \u001b[32m━━━━━━━━━━━━━━━━━━━━\u001b[0m\u001b[37m\u001b[0m \u001b[1m1s\u001b[0m 2ms/step - accuracy: 0.7679 - loss: 0.5339 - val_accuracy: 0.6071 - val_loss: 0.8402\n",
            "Epoch 4/20\n",
            "\u001b[1m318/318\u001b[0m \u001b[32m━━━━━━━━━━━━━━━━━━━━\u001b[0m\u001b[37m\u001b[0m \u001b[1m1s\u001b[0m 1ms/step - accuracy: 0.7671 - loss: 0.4826 - val_accuracy: 0.6801 - val_loss: 0.6985\n",
            "Epoch 5/20\n",
            "\u001b[1m318/318\u001b[0m \u001b[32m━━━━━━━━━━━━━━━━━━━━\u001b[0m\u001b[37m\u001b[0m \u001b[1m1s\u001b[0m 2ms/step - accuracy: 0.7859 - loss: 0.4758 - val_accuracy: 0.8010 - val_loss: 0.4611\n",
            "Epoch 6/20\n",
            "\u001b[1m318/318\u001b[0m \u001b[32m━━━━━━━━━━━━━━━━━━━━\u001b[0m\u001b[37m\u001b[0m \u001b[1m1s\u001b[0m 2ms/step - accuracy: 0.8093 - loss: 0.4454 - val_accuracy: 0.7935 - val_loss: 0.4060\n",
            "Epoch 7/20\n",
            "\u001b[1m318/318\u001b[0m \u001b[32m━━━━━━━━━━━━━━━━━━━━\u001b[0m\u001b[37m\u001b[0m \u001b[1m1s\u001b[0m 2ms/step - accuracy: 0.8140 - loss: 0.4313 - val_accuracy: 0.7179 - val_loss: 0.5865\n",
            "Epoch 8/20\n",
            "\u001b[1m318/318\u001b[0m \u001b[32m━━━━━━━━━━━━━━━━━━━━\u001b[0m\u001b[37m\u001b[0m \u001b[1m1s\u001b[0m 1ms/step - accuracy: 0.7999 - loss: 0.4054 - val_accuracy: 0.7884 - val_loss: 0.3960\n",
            "Epoch 9/20\n",
            "\u001b[1m318/318\u001b[0m \u001b[32m━━━━━━━━━━━━━━━━━━━━\u001b[0m\u001b[37m\u001b[0m \u001b[1m0s\u001b[0m 2ms/step - accuracy: 0.8270 - loss: 0.4064 - val_accuracy: 0.7909 - val_loss: 0.4005\n",
            "Epoch 10/20\n",
            "\u001b[1m318/318\u001b[0m \u001b[32m━━━━━━━━━━━━━━━━━━━━\u001b[0m\u001b[37m\u001b[0m \u001b[1m1s\u001b[0m 2ms/step - accuracy: 0.8473 - loss: 0.3740 - val_accuracy: 0.7909 - val_loss: 0.5309\n",
            "Epoch 11/20\n",
            "\u001b[1m318/318\u001b[0m \u001b[32m━━━━━━━━━━━━━━━━━━━━\u001b[0m\u001b[37m\u001b[0m \u001b[1m1s\u001b[0m 2ms/step - accuracy: 0.8073 - loss: 0.4193 - val_accuracy: 0.8237 - val_loss: 0.3690\n",
            "Epoch 12/20\n",
            "\u001b[1m318/318\u001b[0m \u001b[32m━━━━━━━━━━━━━━━━━━━━\u001b[0m\u001b[37m\u001b[0m \u001b[1m1s\u001b[0m 2ms/step - accuracy: 0.8348 - loss: 0.3719 - val_accuracy: 0.7506 - val_loss: 0.4826\n",
            "Epoch 13/20\n",
            "\u001b[1m318/318\u001b[0m \u001b[32m━━━━━━━━━━━━━━━━━━━━\u001b[0m\u001b[37m\u001b[0m \u001b[1m1s\u001b[0m 1ms/step - accuracy: 0.8322 - loss: 0.3832 - val_accuracy: 0.7884 - val_loss: 0.3865\n",
            "Epoch 14/20\n",
            "\u001b[1m318/318\u001b[0m \u001b[32m━━━━━━━━━━━━━━━━━━━━\u001b[0m\u001b[37m\u001b[0m \u001b[1m0s\u001b[0m 1ms/step - accuracy: 0.8523 - loss: 0.3395 - val_accuracy: 0.8186 - val_loss: 0.3784\n",
            "Epoch 15/20\n",
            "\u001b[1m318/318\u001b[0m \u001b[32m━━━━━━━━━━━━━━━━━━━━\u001b[0m\u001b[37m\u001b[0m \u001b[1m1s\u001b[0m 2ms/step - accuracy: 0.8598 - loss: 0.3259 - val_accuracy: 0.8212 - val_loss: 0.4548\n",
            "Epoch 16/20\n",
            "\u001b[1m318/318\u001b[0m \u001b[32m━━━━━━━━━━━━━━━━━━━━\u001b[0m\u001b[37m\u001b[0m \u001b[1m1s\u001b[0m 1ms/step - accuracy: 0.8694 - loss: 0.3037 - val_accuracy: 0.7632 - val_loss: 0.5010\n",
            "Epoch 17/20\n",
            "\u001b[1m318/318\u001b[0m \u001b[32m━━━━━━━━━━━━━━━━━━━━\u001b[0m\u001b[37m\u001b[0m \u001b[1m1s\u001b[0m 1ms/step - accuracy: 0.8654 - loss: 0.3199 - val_accuracy: 0.8035 - val_loss: 0.3872\n",
            "Epoch 18/20\n",
            "\u001b[1m318/318\u001b[0m \u001b[32m━━━━━━━━━━━━━━━━━━━━\u001b[0m\u001b[37m\u001b[0m \u001b[1m1s\u001b[0m 1ms/step - accuracy: 0.8676 - loss: 0.3150 - val_accuracy: 0.8262 - val_loss: 0.3424\n",
            "Epoch 19/20\n",
            "\u001b[1m318/318\u001b[0m \u001b[32m━━━━━━━━━━━━━━━━━━━━\u001b[0m\u001b[37m\u001b[0m \u001b[1m1s\u001b[0m 2ms/step - accuracy: 0.8777 - loss: 0.3000 - val_accuracy: 0.8514 - val_loss: 0.3370\n",
            "Epoch 20/20\n",
            "\u001b[1m318/318\u001b[0m \u001b[32m━━━━━━━━━━━━━━━━━━━━\u001b[0m\u001b[37m\u001b[0m \u001b[1m1s\u001b[0m 1ms/step - accuracy: 0.8763 - loss: 0.2997 - val_accuracy: 0.8791 - val_loss: 0.3306\n"
          ]
        },
        {
          "output_type": "execute_result",
          "data": {
            "text/plain": [
              "<keras.src.callbacks.history.History at 0x7f80ba763dd0>"
            ]
          },
          "metadata": {},
          "execution_count": 31
        }
      ]
    },
    {
      "cell_type": "code",
      "source": [
        "scores = model.evaluate(test_x, test_y)\n",
        "print(\"\\n%s: %.2f%%\" % (model.metrics_names[1], scores[1]*100))"
      ],
      "metadata": {
        "colab": {
          "base_uri": "https://localhost:8080/"
        },
        "id": "bEqNdqcGYSpY",
        "outputId": "3885cb78-70b5-4277-b026-a4331008a2d8"
      },
      "execution_count": 33,
      "outputs": [
        {
          "output_type": "stream",
          "name": "stdout",
          "text": [
            "\u001b[1m13/13\u001b[0m \u001b[32m━━━━━━━━━━━━━━━━━━━━\u001b[0m\u001b[37m\u001b[0m \u001b[1m0s\u001b[0m 2ms/step - accuracy: 0.8878 - loss: 0.3002 \n",
            "\n",
            "compile_metrics: 88.92%\n"
          ]
        }
      ]
    }
  ]
}